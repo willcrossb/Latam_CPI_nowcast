{
 "cells": [
  {
   "cell_type": "code",
   "execution_count": 4,
   "metadata": {},
   "outputs": [],
   "source": [
    "import spacy\n",
    "import pandas as pd \n",
    "import numpy as np\n",
    "from spacy_download import load_spacy\n",
    "\n",
    "df = pd.read_csv('data/Inf_report_DB.csv')"
   ]
  },
  {
   "cell_type": "code",
   "execution_count": 11,
   "metadata": {},
   "outputs": [
    {
     "name": "stdout",
     "output_type": "stream",
     "text": [
      "Noun chunks: ['Un descenso interanual', 'el Índice de Precios de Productor (IPP) de Industrias (agregación de los sectores manufactura, minería y electricidad, gas y agua)', 'marzo de 2023,', 'una variación', 'tercer mes', 'año', 'esta mañana', 'el Instituto Nacional de Estadísticas (INE)', 'El Índice de Precios de Productor de Minería (IPPMin)', 'que', 'el resultado', 'doce meses', 'IPP de Industrias', 'una disminución', 'respecto de marzo de 2022', 'que', 'año', '; extracción', 'procesamiento', 'cobre', ', con una baja', 'el Índice de Precios de Productor Industria Manufacturera (IPPMan)', 'una variación', 'doce meses', '8,8%', 'marzo de 2023', 'La clase', 'que', 'su incidencia positiva', 'el resultado interanual', 'indicador', 'sustancias químicas', ', con un alza', 'el Índice de Precios de Distribución de Electricidad, Gas y Agua (IPDEGA)', 'respecto del mismo mes', 'año anterior', 'tercer mes de 2023', 'La clase', 'que', 'la variación interanual', 'índice', ', tratamiento', 'distribución', 'agua', ', con un aumento', 'Boletín Índice de Precios de Productor (IPP) Industrias marzo 2023\\n\\n\\n\\n\\nImagen: Codelco/Creative Commons\\n']\n",
      "Noun chunks: ['Un descenso mensual', 'marzo de 2023', 'el Índice de Costos del Transporte (ICT)', 'ello', 'una variación', 'que', 'año', 'esta mañana', 'el Instituto Nacional de Estadísticas (INE)', 'El resultado', 'mes', 'la disminución', 'grupo combustibles (-2,8%), que incidió -0,969 puntos porcentuales sobre la variación mensual del ICT general', 'recursos humanos', 'respecto a febrero', ', con una incidencia', '-0,483', 'puntos porcentuales', 'servicios financieros', 'una variación mensual', ', con una incidencia', '-0,080 puntos porcentuales', 'su parte', 'el funcionamiento', 'mantención', 'vehículo', 'comparación', 'el mes anterior', '-0,027 puntos porcentuales', 'otros servicios relativos al equipo de transporte', 'un alza mensual', '0,015 puntos porcentuales', 'Boletín Índice de Costos del Transporte (ICT) marzo de 2023\\xa0\\n']\n",
      "Noun chunks: ['El pasado viernes 14 de abril', 'la primera reunión', 'Comité de Expertos IPC', 'que', 'INE', 'esta materia', 'La directora nacional', '(s', 'INE', ', Daniela Moraga,', 'la reunión', 'la oportunidad', 'algunos', 'los lineamientos', 'que', 'el trabajo', 'torno al indicador', '2023', '“', 'enero', 'este año', 'los precios', 'la canasta', 'nuevo año base 2023=100, que será publicado en febrero de 2024', 'Esto', 'el calendario', 'actualizaciones quinquenales', 'IPC', 'que', 'las recomendaciones', 'la OCDE', '“', 'les', 'el último comité', 'año pasado', 'la información parcial', 'el momento', 'la IX Encuesta de Presupuestos Familiares (EPF)', 'un conjunto', 'variedades amplias', 'productos', 'servicios', 'que', 'la nueva canasta', 'productos', 'servicios', 'IPC Base 2023', 'los resultados finales', 'la IX EPF', 'la canasta definitiva', 'la base', '2023', 'el segundo semestre', 'este año', 'la composición', 'los indicadores analíticos', 'que', 'la nueva base', '; y una', 'las innovaciones', 'que', 'la nueva canasta', 'la actualización', '2018', 'la Clasificación del Consumo Individual', 'Finalidades', '- CCIF', '(o COICOP', 'sus siglas', 'inglés', 'que', 'que', 'la EPF', 'como IPC', 'que', 'cambios', 'el nivel', 'desagregación', 'algunos productos', 'servicios', 'Moraga', 'La exposición', ', jefe', 'Departamento de Estadística de Precios de la Subdirección Técnica', 'quien', 'el estado', 'la recolección', 'precios', ', así como el análisis', 'los resultados', 'la última coyuntura', ', la compasión internacional', 'la actualización', 'Año Base', ', entre otros tópicos', 'El impacto', 'la pandemia', 'el proceso', 'recolección', 'IPC', 'que', 'el tiempo', 'La tasa media', 'imputación', '2019', '2020', 'la pandemia', 'la tasa', 'imputación', 'que', '2021', '2022', '15,91%', 'marzo', 'este año', 'una tasa', 'imputación', 'que', 'este año', 'tasas normales', 'imputación', 'el segundo semestre', 'una mejora', 'la tasa', 'imputación', 'nuevos métodos', 'recolección', 'datos', 'donde', 'el trabajo', 'que', 'grandes cadenas', 'supermercados', 'del retail', 'Respecto al resto', 'mundo', 'la prensa económica', 'el fenómeno inflacionario', 'prácticamente todas las grandes economías', 'fenómenos inflacionarios', '2022', 'en esta primera parte', '2023', 'La pandemia', 'la guerra', 'Ucrania', 'los resultados internacionales', 'que', 'los resultados', '12 meses', 'IPC', ', en el tercer mes', 'año 2023', 'encima de los valores', 'los últimos años', '(2011-2021', 'Respecto a la actualización', 'Año Base', 'Cristián Copaja', '“', 'una', 'las novedades', 'este proceso', 'la versión', '2018', 'la Clasificación del Consumo Individual por Finalidades (CCIF)', 'la cual', 'la versión', '1999', 'Este cambio', 'un aumento', 'el número', 'divisiones', 'del contenido', 'algunas', 'éstas', ', además de un mayor detalle', 'la composición', 'la canasta', 'la nueva estructura', '13 divisiones', 'la actual canasta', 'Esto', 'un ordenamiento más racional de su composición', 'la división', 'bienes', 'servicios', 'diversos los grupos', 'seguros', 'servicios', 'un mayor nivel', 'precisión', 'algunos', 'los productos', 'servicios', 'la canasta', ', como pasajes aéreos', 'que', 'destino nacional o internacional', 'Otra novedad', 'que', 'relación', 'el uso intensivo', 'técnicas', 'recolección', 'datos no tradicionales', ', como la recolección automatizada', 'sitios web (Webscrapping)', 'el uso', 'registros provenientes directamente', 'las empresas', '(Scanner data)”,', 'La exposición completa', 'la primera sesión', 'Comité de Expertos del Índice de Precios al Consumidor (IPC) del INE', 'el siguiente enlace', 'Presentación Comité de Expertos - Índice de Precios al Consumidor (IPC) - 14 de abril de 2023']\n",
      "Noun chunks: ['marzo de 2023,', 'el Índice de Precios al Consumidor (IPC)', 'una variación mensual', '1,1%', 'un incremento', 'tercer mes', 'año', ', y un aumento', 'doce meses', 'Nueve', 'las doce divisiones', 'que', 'la canasta', 'IPC', 'incidencias positivas', 'la variación mensual', 'índice', 'forma negativa', 'las divisiones', 'alzas', 'sus precios', 'educación', 'que', '0,659 puntos porcentuales', ', y recreación', 'cultura', ', con 0,144 puntos porcentuales', 'las divisiones', 'descensos', 'sus precios', 'transporte', 'puntos porcentuales', 'Boletín IPC marzo 2023\\nSeparata técnica imputaciones IPC marzo 2023\\nCuadro estadístico resultados IPC marzo 2023']\n",
      "Noun chunks: ['Un descenso interanual', 'el Índice de Precios de Productor (IPP) de Industrias (agregación de los sectores manufactura, minería y electricidad, gas y agua)', 'febrero de 2023', 'una variación de –2,0% al segundo mes del año', 'esta mañana', 'el Instituto Nacional de Estadísticas (INE)', 'El Índice de Precios de Productor de Minería (IPPMin)', 'que', 'el resultado', 'doce meses', 'IPP de Industrias', 'una disminución', 'respecto de febrero de 2022', 'que', 'año', 'cobre', ', con una baja', 'el Índice de Precios de Distribución de Electricidad, Gas y Agua (IPDEGA)', 'respecto del mismo mes', 'año anterior', 'segundo mes de 2023', 'La clase', 'que', 'la variación interanual', 'índice', ', tratamiento', 'distribución', 'agua', ', con un aumento', 'el Índice de Precios de Productor Industria Manufacturera (IPPMan)', 'una variación', 'doce meses', 'febrero de 2023', 'La clase', 'que', 'su incidencia positiva', 'el resultado interanual', 'indicador', 'productos', 'panadería', ', con un alza', 'Boletín Índice de Precios de Productor (IPP) Industrias febrero 2023\\xa0\\xa0']\n",
      "Noun chunks: ['Un descenso mensual', 'febrero de 2023', 'el Índice de Costos del Transporte (ICT)', 'que', 'año', 'el Instituto Nacional de Estadísticas (INE)', 'El resultado', 'mes', 'la disminución', 'grupo combustibles (-3,6%)', 'que', 'puntos porcentuales', 'la variación mensual', 'ICT general', 'otros servicios relativos al equipo de transporte', 'un alza', 'respecto a enero', '0,027 puntos porcentuales', 'el funcionamiento', 'mantención', 'vehículo', 'un incremento mensual', ', con una incidencia', '0,076 puntos porcentuales', 'su parte', 'servicios financieros', 'comparación con el mes anterior', '0,420 puntos porcentuales', 'Finalmente, recursos humanos', 'una variación mensual', ', con una incidencia', '0,511 puntos porcentuales', 'Boletín Índice de Costos del Transporte (ICT) febrero de 2023\\xa0\\n']\n",
      "Noun chunks: ['febrero de 2023,', 'el Índice de Precios al Consumidor (IPC)', 'una variación mensual', 'un incremento', 'segundo mes', 'año', ', y un aumento', 'doce meses', 'las doce divisiones', 'que', 'la canasta', 'IPC', 'incidencias negativas', 'la variación mensual', 'índice', 'forma positiva', 'nula incidencia', 'Las divisiones', 'descensos', 'sus precios', '-0,396 puntos porcentuales', '; alimentos', 'bebidas', ', con -0,064 puntos porcentuales', ', y recreación', 'cultura', ', con -0,064 puntos porcentuales', 'las divisiones', 'alzas', 'sus precios', 'vestuario', 'calzado', ', con 0,110 puntos porcentuales', 'Boletín IPC febrero 2023\\nSeparata técnica imputaciones IPC febrero 2023\\nCuadro estadístico resultados IPC febrero 2023']\n",
      "Noun chunks: ['Un aumento interanual', 'el Índice de Precios de Productor (IPP) de Industrias (agregación de los sectores manufactura, minería y electricidad, gas y agua)', 'enero de 2023', 'nula variación', 'primer mes', 'año', 'esta mañana', 'el Instituto Nacional de Estadísticas (INE)', 'El Índice de Precios de Productor Industria Manufacturera (IPPMan)', 'que', 'la variación', 'doce meses', 'IPP de Industrias', 'respecto de enero de 2022', 'que', 'año', '; fabricación', 'pasta', 'madera', ', papel', 'cartón', ', con un alza', 'el Índice de Precios de Distribución de Electricidad, Gas y Agua (IPDEGA)', 'respecto del mismo mes', 'año anterior', 'primer mes de 2023', 'La clase', 'que', 'la variación interanual', 'índice', ', tratamiento', 'distribución', 'agua', ', con un aumento', 'el Índice de Precios de Productor de Minería (IPPMin)', 'una variación', 'doce meses', '-3,4%', 'enero de 2023', 'La clase', 'que', 'su incidencia negativa', 'el resultado interanual', 'indicador', 'procesamiento', 'cobre', ', con una baja', 'Boletín Índice de Precios de Productor (IPP) Industrias enero 2023\\xa0\\n']\n",
      "Noun chunks: ['Un alza mensual y acumulada', 'enero', 'el Índice de Costos del Transporte (ICT)', 'esta mañana', 'el Instituto Nacional de Estadísticas (INE)', 'La variación', 'mes', 'el aumento', 'grupo recursos humanos', 'que', '1,466 puntos porcentuales', 'la variación mensual', 'ICT general', 'otros servicios relativos al equipo de transporte', 'un incremento', 'respecto a diciembre de 2022', '0,408 puntos porcentuales', 'el funcionamiento', 'mantención', 'vehículo', 'una variación mensual', ', con una incidencia', '0,087 puntos porcentuales', 'su parte', 'servicios financieros', 'un descenso', 'comparación', 'el mes anterior', ', con una incidencia', '-0,243 puntos porcentuales', 'combustibles', 'una variación mensual', '-1,6%', 'puntos porcentuales', 'Boletín Índice de Costos del Transporte (ICT) enero de 2023']\n",
      "Noun chunks: ['enero de 2023,', 'el Índice de Precios al Consumidor (IPC)', 'un aumento mensual', 'un alza', 'doce meses', 'las doce divisiones', 'que', 'la canasta', 'IPC', 'incidencias positivas', 'la variación mensual', 'índice', 'forma negativa', 'las divisiones', 'incrementos', 'sus precios', 'alimentos', 'bebidas', ', con 0,227 puntos porcentuales', ', y bebidas', ', con 0,121 puntos porcentuales', 'La división', 'que', 'forma negativa', ', con -0,029 puntos porcentuales', 'Boletín IPC enero 2023\\nSeparata técnica imputaciones IPC enero 2023\\nCuadro estadístico resultados IPC enero 2023']\n"
     ]
    }
   ],
   "source": [
    "nlp = spacy.load(\"es_core_news_sm\")\n",
    "\n",
    "for i in range (0,10):\n",
    "    text = df.iloc[i,4]\n",
    "    \n",
    "    doc = nlp(text)\n",
    "    # Extract key named entities\n",
    "    named_entities = [ent.text for ent in doc.ents]\n",
    "\n",
    "    # Extract key noun phrases\n",
    "    noun_chunks = [chunk.text for chunk in doc.noun_chunks]\n",
    "\n",
    "    # Print the results\n",
    "    #print(\"Named entities:\", named_entities)\n",
    "    print(\"Noun chunks:\", noun_chunks)"
   ]
  }
 ],
 "metadata": {
  "kernelspec": {
   "display_name": "Python 3.9.12 ('base')",
   "language": "python",
   "name": "python3"
  },
  "language_info": {
   "codemirror_mode": {
    "name": "ipython",
    "version": 3
   },
   "file_extension": ".py",
   "mimetype": "text/x-python",
   "name": "python",
   "nbconvert_exporter": "python",
   "pygments_lexer": "ipython3",
   "version": "3.9.12"
  },
  "orig_nbformat": 4,
  "vscode": {
   "interpreter": {
    "hash": "bb21f767a211495abec8bf77423259a843a4f607ac418d71c8e2c640fac1142a"
   }
  }
 },
 "nbformat": 4,
 "nbformat_minor": 2
}
